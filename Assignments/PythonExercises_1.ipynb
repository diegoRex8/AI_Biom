{
  "cells": [
    {
      "cell_type": "markdown",
      "metadata": {
        "id": "view-in-github",
        "colab_type": "text"
      },
      "source": [
        "<a href=\"https://colab.research.google.com/github/diegoRex8/AI_Biom/blob/main/Assignments/PythonExercises_1.ipynb\" target=\"_parent\"><img src=\"https://colab.research.google.com/assets/colab-badge.svg\" alt=\"Open In Colab\"/></a>"
      ]
    },
    {
      "cell_type": "markdown",
      "metadata": {
        "id": "FzE3qBSbgOrh"
      },
      "source": [
        "// Diego Alejandro Banda Ibarra #1870295\n",
        "// Jueves N4-N6\n",
        "// PythonExercises_1"
      ]
    },
    {
      "cell_type": "code",
      "execution_count": 9,
      "metadata": {
        "colab": {
          "base_uri": "https://localhost:8080/"
        },
        "id": "AfVr9vYIgAOB",
        "outputId": "11b01500-91ca-4752-cfec-a424697a887f"
      },
      "outputs": [
        {
          "output_type": "stream",
          "name": "stdout",
          "text": [
            "Enter file (enter for default text): \n",
            "Dif between mayus and minus? y/n: n\n",
            "Number of words: 209\n",
            "Number of sentences: 9\n",
            "Number of paragraphs: 3\n",
            "Average word length: 3.02\n",
            "Most common word: to (Frequency: 16)\n"
          ]
        }
      ],
      "source": [
        "#Program that reads a text file and performs various analyses on its content\n",
        "\n",
        "import re\n",
        "\n",
        "name = input('Enter file (enter for default text): ')\n",
        "if len(name) < 1:\n",
        "    name = 'words.txt'\n",
        "handle = open(name)\n",
        "\n",
        "di = dict()\n",
        "\n",
        "countMax = None\n",
        "wordMax = None\n",
        "\n",
        "x = input('Dif between mayus and minus? y/n: ')\n",
        "\n",
        "# Initialize variables for word count, sentence count, and paragraph count\n",
        "word_count = 0\n",
        "sentence_count = 0\n",
        "paragraph_count = 1\n",
        "\n",
        "for line in handle:\n",
        "    if x.lower() == 'n':\n",
        "        line = line.lower()\n",
        "\n",
        "    # Split the line into sentences using regular expressions\n",
        "    sentences = re.split(r'[.!?]', line)\n",
        "    #print(sentences)\n",
        "\n",
        "    for sentence in sentences:\n",
        "        # Count sentences\n",
        "        if sentence.strip():\n",
        "            sentence_count += 1\n",
        "\n",
        "            # Split each sentence into words\n",
        "            words = sentence.split()\n",
        "            word_count += len(words)\n",
        "\n",
        "            for word in words:\n",
        "                # Count words\n",
        "                di[word] = di.get(word, 0) + 1\n",
        "\n",
        "    # Count paragraphs\n",
        "    if not line.strip():\n",
        "        paragraph_count += 1\n",
        "\n",
        "# Calculate average word length\n",
        "total_word_length = sum(len(word) for word in di)\n",
        "average_word_length = round(total_word_length / word_count if word_count > 0 else 0,2)\n",
        "\n",
        "# Find the most common word\n",
        "for k, v in di.items():\n",
        "    if countMax is None or v > countMax:\n",
        "        wordMax = k\n",
        "        countMax = v\n",
        "\n",
        "print('Number of words:',word_count)\n",
        "print('Number of sentences:',sentence_count)\n",
        "print('Number of paragraphs:',paragraph_count)\n",
        "print('Average word length:',average_word_length)\n",
        "print('Most common word: ' + str(wordMax) + ' (Frequency: ' + str(countMax) + ')' )"
      ]
    },
    {
      "cell_type": "markdown",
      "source": [
        "words.txt\n",
        "//Programa ejemplo en carpeta archivos\n",
        "\n",
        "Writing programs or programming is a very creative and rewarding activity. You can write programs for many reasons ranging from making your living to solving a difficult data analysis problem to having fun to helping someone else solve a problem. This book assumes that everyone needs to know how to program and that once you know how to program, you will figure out what you want to do with your newfound skills.\n",
        "\n",
        "We are surrounded in our daily lives with computers ranging from laptops to cell phones. We can think of these computers as our personal assistants who can take care of many things on our behalf. The hardware in our current-day computers is essentially built to continuously ask us the question What would you like me to do next.\n",
        "\n",
        "Our computers are fast and have vasts amounts of memory and could be very helpful to us if we only knew the language to speak to explain to the computer what we would like it to do next. If we knew this language we could tell the computer to do tasks on our behalf that were reptitive. Interestingly, the kinds of things computers can do best are often the kinds of things that we humans find boring and mind-numbing.\n"
      ],
      "metadata": {
        "id": "A2adouxRohTN"
      }
    },
    {
      "cell_type": "code",
      "execution_count": null,
      "metadata": {
        "colab": {
          "base_uri": "https://localhost:8080/"
        },
        "id": "EYA_vxb3gZ25",
        "outputId": "1fc22df0-6668-4683-887a-ac2d2dbb854a"
      },
      "outputs": [
        {
          "name": "stdout",
          "output_type": "stream",
          "text": [
            "Welcome to Hangman (Fruits' Version)\n",
            "_ _ _ _ _\n",
            "Guess a letter: a\n",
            "_ _ a _ _\n",
            "Guess a letter: b\n",
            "Wrong guess! You have 5 attempts left.\n",
            "_ _ a _ _\n",
            "Guess a letter: p\n",
            "_ _ a p _\n",
            "Guess a letter: g\n",
            "g _ a p _\n",
            "Guess a letter: r\n",
            "g r a p _\n",
            "Guess a letter: e\n",
            "Congratulations! You guessed the word: grape\n"
          ]
        }
      ],
      "source": [
        "import random\n",
        "\n",
        "# List of words for the game\n",
        "word_list = [\"apple\", \"banana\", \"cherry\", \"orange\", \"pear\", \"melon\", \"grape\", \"mango\"]\n",
        "\n",
        "# Select a random word from the list\n",
        "target_word = random.choice(word_list)\n",
        "\n",
        "# Initialize variables\n",
        "guessed_word = ['_' for _ in target_word]\n",
        "max_attempts = 6\n",
        "attempts = 0\n",
        "guessed_letters = []\n",
        "\n",
        "print(\"Welcome to Hangman (Fruits' Version)\")\n",
        "\n",
        "while attempts < max_attempts:\n",
        "    print(' '.join(guessed_word))\n",
        "    guess = input('Guess a letter: ').lower()\n",
        "\n",
        "    if len(guess) != 1 or not guess.isalpha():\n",
        "        print('Invalid input. Please enter a single letter.')\n",
        "        continue\n",
        "\n",
        "    if guess in guessed_letters:\n",
        "        print('You already tried that letter. Try another one.')\n",
        "        continue\n",
        "\n",
        "    guessed_letters.append(guess)\n",
        "\n",
        "    if target_word.find(guess) != -1:\n",
        "        positions = [i for i, letter in enumerate(target_word) if letter == guess]\n",
        "        for position in positions:\n",
        "            guessed_word[position] = guess\n",
        "    else:\n",
        "        attempts += 1\n",
        "        print('Wrong guess! You have',(max_attempts - attempts),'attempts left.')\n",
        "\n",
        "    if \"\".join(guessed_word) == target_word:\n",
        "        print('Congratulations! You guessed the word:',target_word)\n",
        "        break\n",
        "\n",
        "if attempts >= max_attempts:\n",
        "    print(\"Sorry, you're out of attempts. The word was:\", target_word)"
      ]
    },
    {
      "cell_type": "code",
      "execution_count": 4,
      "metadata": {
        "colab": {
          "base_uri": "https://localhost:8080/"
        },
        "id": "V4ijo7augaIX",
        "outputId": "6eae9c3a-903a-4145-d7c7-a089e71991e2"
      },
      "outputs": [
        {
          "output_type": "stream",
          "name": "stdout",
          "text": [
            "Number Guessing Game\n",
            "Try to guess the number between 1 and 100.\n",
            "------------------------------------------\n",
            "Enter your guess: 50\n",
            "Too high! Try again, lower.\n",
            "\n",
            "Enter your guess: 30\n",
            "Too high! Try again, lower.\n",
            "\n",
            "Enter your guess: 10\n",
            "Too low! Try again, higher.\n",
            "\n",
            "Enter your guess: 20\n",
            "Too high! Try again, lower.\n",
            "\n",
            "Enter your guess: 16\n",
            "Too high! Try again, lower.\n",
            "\n",
            "Enter your guess: 13\n",
            "Congratulations! You guessed the number 13 in 6 attempts.\n"
          ]
        }
      ],
      "source": [
        "#Generates a random number between 1 and 100, and then asks the user to guess the number\n",
        "\n",
        "from random import randint\n",
        "\n",
        "# Generate a random number between 1 and 100\n",
        "target_number = randint(1, 100)\n",
        "\n",
        "# Initialize a variable to keep track of the number of guesses\n",
        "attempts = 0\n",
        "\n",
        "print('Number Guessing Game')\n",
        "print('Try to guess the number between 1 and 100.')\n",
        "print('------------------------------------------')\n",
        "\n",
        "while True:\n",
        "    try:\n",
        "        # Get the user's guess\n",
        "        user_guess = int(input('Enter your guess: '))\n",
        "        attempts += 1\n",
        "\n",
        "        if user_guess < target_number:\n",
        "            print('Too low! Try again, higher.\\n')\n",
        "        elif user_guess > target_number:\n",
        "            print('Too high! Try again, lower.\\n')\n",
        "        else:\n",
        "            print('Congratulations! You guessed the number',target_number,'in',attempts,'attempts.')\n",
        "            break  # Exit the loop when the user guesses correctly\n",
        "    except ValueError:\n",
        "        print('Error. Please enter a valid number.')"
      ]
    }
  ],
  "metadata": {
    "colab": {
      "provenance": [],
      "authorship_tag": "ABX9TyNRy42QbdJ2GQhw+xBhTjb5",
      "include_colab_link": true
    },
    "kernelspec": {
      "display_name": "Python 3",
      "name": "python3"
    },
    "language_info": {
      "name": "python"
    }
  },
  "nbformat": 4,
  "nbformat_minor": 0
}